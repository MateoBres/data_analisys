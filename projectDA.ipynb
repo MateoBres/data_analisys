{
 "cells": [
  {
   "cell_type": "markdown",
   "metadata": {},
   "source": [
    "# Bendford's law\n",
    "\n",
    "Bendford's law  is an observation about the frequency distribution of leading digits in many real-life sets of numerical data. The law states that in many naturally occurring collections of numbers, the leading digit is likely to be small. \n",
    "In sets that obey the law, the number 1 appears as the leading significant digit about 30% of the time, while 9 appears as the leading significant digit less than 5% of the time. If the digits were distributed uniformly, they would each occur about 11.1% of the time.\n",
    "I applied this law to an Argentinian population Dataset organized by cities in the years 2010, 2001, 1991 to check if the law is accurate. "
   ]
  },
  {
   "cell_type": "code",
   "execution_count": 172,
   "metadata": {},
   "outputs": [],
   "source": [
    "import numpy as np\n",
    "import pandas as pd\n",
    "import matplotlib.pyplot as plt\n",
    "import matplotlib.patches as mpatches\n",
    "%matplotlib inline"
   ]
  },
  {
   "cell_type": "markdown",
   "metadata": {},
   "source": [
    "## The Benford's law diagram"
   ]
  },
  {
   "cell_type": "code",
   "execution_count": 226,
   "metadata": {},
   "outputs": [
    {
     "data": {
      "image/png": "[encoded data removed]",
      "text/plain": [
       "<Figure size 432x288 with 1 Axes>"
      ]
     },
     "metadata": {
      "needs_background": "light"
     },
     "output_type": "display_data"
    }
   ],
   "source": [
    "plt.title(\"Benford's law\")\n",
    "plt.ylabel('Percentage')\n",
    "plt.bar(['1','2','3','4','5','6','7','8','9'],[30.1, 17.6, 12.5, 9.7, 7.9, 6.7, 5.8, 5.1, 4.6])\n",
    "plt.show()"
   ]
  },
  {
   "cell_type": "markdown",
   "metadata": {},
   "source": [
    "## Argentina's population in 2010"
   ]
  },
  {
   "cell_type": "code",
   "execution_count": 204,
   "metadata": {
    "scrolled": false
   },
   "outputs": [
    {
     "data": {
      "text/html": [
       "<div>\n",
       "<style scoped>\n",
       "    .dataframe tbody tr th:only-of-type {\n",
       "        vertical-align: middle;\n",
       "    }\n",
       "\n",
       "    .dataframe tbody tr th {\n",
       "        vertical-align: top;\n",
       "    }\n",
       "\n",
       "    .dataframe thead th {\n",
       "        text-align: right;\n",
       "    }\n",
       "</style>\n",
       "<table border=\"1\" class=\"dataframe\">\n",
       "  <thead>\n",
       "    <tr style=\"text-align: right;\">\n",
       "      <th></th>\n",
       "      <th>PROVINCE</th>\n",
       "      <th>CITY</th>\n",
       "      <th>POP2010</th>\n",
       "      <th>POP2001</th>\n",
       "      <th>POP1991</th>\n",
       "    </tr>\n",
       "  </thead>\n",
       "  <tbody>\n",
       "    <tr>\n",
       "      <th>0</th>\n",
       "      <td>Buenos Aires</td>\n",
       "      <td>Adolfo Alsina</td>\n",
       "      <td>17072</td>\n",
       "      <td>16245.0</td>\n",
       "      <td>18077.0</td>\n",
       "    </tr>\n",
       "    <tr>\n",
       "      <th>1</th>\n",
       "      <td>Buenos Aires</td>\n",
       "      <td>Adolfo Gonzáles Chaves</td>\n",
       "      <td>12047</td>\n",
       "      <td>12037.0</td>\n",
       "      <td>12747.0</td>\n",
       "    </tr>\n",
       "    <tr>\n",
       "      <th>2</th>\n",
       "      <td>Buenos Aires</td>\n",
       "      <td>Alberti</td>\n",
       "      <td>10654</td>\n",
       "      <td>10373.0</td>\n",
       "      <td>10627.0</td>\n",
       "    </tr>\n",
       "    <tr>\n",
       "      <th>3</th>\n",
       "      <td>Buenos Aires</td>\n",
       "      <td>Almirante Brown</td>\n",
       "      <td>552902</td>\n",
       "      <td>515556.0</td>\n",
       "      <td>450698.0</td>\n",
       "    </tr>\n",
       "    <tr>\n",
       "      <th>4</th>\n",
       "      <td>Buenos Aires</td>\n",
       "      <td>Arrecifes</td>\n",
       "      <td>29044</td>\n",
       "      <td>27279.0</td>\n",
       "      <td>24593.0</td>\n",
       "    </tr>\n",
       "    <tr>\n",
       "      <th>...</th>\n",
       "      <td>...</td>\n",
       "      <td>...</td>\n",
       "      <td>...</td>\n",
       "      <td>...</td>\n",
       "      <td>...</td>\n",
       "    </tr>\n",
       "    <tr>\n",
       "      <th>2218</th>\n",
       "      <td>Tucumán</td>\n",
       "      <td>Villa de Leales</td>\n",
       "      <td>54949</td>\n",
       "      <td>2983.0</td>\n",
       "      <td>2570.0</td>\n",
       "    </tr>\n",
       "    <tr>\n",
       "      <th>2219</th>\n",
       "      <td>Tucumán</td>\n",
       "      <td>Villa Quinteros</td>\n",
       "      <td>63641</td>\n",
       "      <td>4647.0</td>\n",
       "      <td>3965.0</td>\n",
       "    </tr>\n",
       "    <tr>\n",
       "      <th>2220</th>\n",
       "      <td>Tucumán</td>\n",
       "      <td>Yánima</td>\n",
       "      <td>19002</td>\n",
       "      <td>1314.0</td>\n",
       "      <td>1171.0</td>\n",
       "    </tr>\n",
       "    <tr>\n",
       "      <th>2221</th>\n",
       "      <td>Tucumán</td>\n",
       "      <td>Yerba Buena</td>\n",
       "      <td>75076</td>\n",
       "      <td>50783.0</td>\n",
       "      <td>36311.0</td>\n",
       "    </tr>\n",
       "    <tr>\n",
       "      <th>2222</th>\n",
       "      <td>Tucumán</td>\n",
       "      <td>Yerba Buena (S)</td>\n",
       "      <td>30876</td>\n",
       "      <td>2672.0</td>\n",
       "      <td>3029.0</td>\n",
       "    </tr>\n",
       "  </tbody>\n",
       "</table>\n",
       "<p>2223 rows × 5 columns</p>\n",
       "</div>"
      ],
      "text/plain": [
       "          PROVINCE                    CITY  POP2010   POP2001   POP1991\n",
       "0     Buenos Aires           Adolfo Alsina    17072   16245.0   18077.0\n",
       "1     Buenos Aires  Adolfo Gonzáles Chaves    12047   12037.0   12747.0\n",
       "2     Buenos Aires                 Alberti    10654   10373.0   10627.0\n",
       "3     Buenos Aires         Almirante Brown   552902  515556.0  450698.0\n",
       "4     Buenos Aires               Arrecifes    29044   27279.0   24593.0\n",
       "...            ...                     ...      ...       ...       ...\n",
       "2218       Tucumán         Villa de Leales    54949    2983.0    2570.0\n",
       "2219       Tucumán         Villa Quinteros    63641    4647.0    3965.0\n",
       "2220       Tucumán                  Yánima    19002    1314.0    1171.0\n",
       "2221       Tucumán             Yerba Buena    75076   50783.0   36311.0\n",
       "2222       Tucumán         Yerba Buena (S)    30876    2672.0    3029.0\n",
       "\n",
       "[2223 rows x 5 columns]"
      ]
     },
     "execution_count": 204,
     "metadata": {},
     "output_type": "execute_result"
    }
   ],
   "source": [
    "population = pd.read_excel(\"population_by_city.xlsx\")\n",
    "population\n"
   ]
  },
  {
   "cell_type": "markdown",
   "metadata": {},
   "source": [
    "### Select only the population in 2010"
   ]
  },
  {
   "cell_type": "code",
   "execution_count": 206,
   "metadata": {},
   "outputs": [],
   "source": [
    "population2010 = population.loc[:,[\"POP2010\"]]"
   ]
  },
  {
   "cell_type": "code",
   "execution_count": 104,
   "metadata": {},
   "outputs": [
    {
     "data": {
      "text/plain": [
       "pob2010    int64\n",
       "dtype: object"
      ]
     },
     "execution_count": 104,
     "metadata": {},
     "output_type": "execute_result"
    }
   ],
   "source": [
    "population2010.dtypes"
   ]
  },
  {
   "cell_type": "code",
   "execution_count": 105,
   "metadata": {},
   "outputs": [
    {
     "data": {
      "text/plain": [
       "0        17072\n",
       "1        12047\n",
       "2        10654\n",
       "3       552902\n",
       "4        29044\n",
       "         ...  \n",
       "2218     54949\n",
       "2219     63641\n",
       "2220     19002\n",
       "2221     75076\n",
       "2222     30876\n",
       "Length: 2223, dtype: int64"
      ]
     },
     "execution_count": 105,
     "metadata": {},
     "output_type": "execute_result"
    }
   ],
   "source": [
    "serie = population2010.apply(pd.Series).stack().reset_index(drop=True)\n",
    "serie"
   ]
  },
  {
   "cell_type": "code",
   "execution_count": 106,
   "metadata": {
    "scrolled": true
   },
   "outputs": [
    {
     "data": {
      "text/plain": [
       "pandas.core.series.Series"
      ]
     },
     "execution_count": 106,
     "metadata": {},
     "output_type": "execute_result"
    }
   ],
   "source": [
    "type(serie)"
   ]
  },
  {
   "cell_type": "code",
   "execution_count": 107,
   "metadata": {},
   "outputs": [],
   "source": [
    "list_population = serie.tolist()"
   ]
  },
  {
   "cell_type": "markdown",
   "metadata": {},
   "source": [
    "### Separate tha first digit and count each one"
   ]
  },
  {
   "cell_type": "code",
   "execution_count": 108,
   "metadata": {},
   "outputs": [],
   "source": [
    "first_list = []\n",
    "for num in list_population:\n",
    "    num = str(num)\n",
    "    first = num[0:1]\n",
    "    first_list.append(first)\n"
   ]
  },
  {
   "cell_type": "code",
   "execution_count": 238,
   "metadata": {},
   "outputs": [],
   "source": [
    "n1=0\n",
    "n2=0\n",
    "n3=0\n",
    "n4=0\n",
    "n5=0\n",
    "n6=0\n",
    "n7=0\n",
    "n8=0\n",
    "n9=0\n",
    "n0=0\n",
    "\n",
    "for num in first_list:\n",
    "    if(num==\"1\"):\n",
    "        n1 = n1+1\n",
    "    elif(num==\"2\"):\n",
    "        n2 = n2+1  \n",
    "    elif(num==\"3\"):\n",
    "        n3 = n3+1  \n",
    "    elif(num==\"4\"):\n",
    "        n4 = n4+1  \n",
    "    elif(num==\"5\"):\n",
    "        n5 = n5+1  \n",
    "    elif(num==\"6\"):\n",
    "        n6 = n6+1  \n",
    "    elif(num==\"7\"):\n",
    "        n7 = n7+1\n",
    "    elif(num==\"8\"):\n",
    "        n8 = n8+1\n",
    "    elif(num==\"9\"):\n",
    "        n9 = n9+1\n",
    "    elif(num==\"0\"):\n",
    "        n0 = n0+1\n",
    "    else:\n",
    "        pass"
   ]
  },
  {
   "cell_type": "markdown",
   "metadata": {},
   "source": [
    "### Calculate the percentage of each number"
   ]
  },
  {
   "cell_type": "code",
   "execution_count": 110,
   "metadata": {
    "scrolled": true
   },
   "outputs": [],
   "source": [
    "one_percent = (n1+n2+n3+n4+n5+n6+n7+n8+n9+n0)/100"
   ]
  },
  {
   "cell_type": "code",
   "execution_count": 132,
   "metadata": {},
   "outputs": [
    {
     "name": "stdout",
     "output_type": "stream",
     "text": [
      "35.4\n"
     ]
    }
   ],
   "source": [
    "n1_pc = np.round(n1/one_percent,1)\n",
    "print(n1_pc)"
   ]
  },
  {
   "cell_type": "code",
   "execution_count": 133,
   "metadata": {
    "scrolled": true
   },
   "outputs": [
    {
     "name": "stdout",
     "output_type": "stream",
     "text": [
      "13.9\n"
     ]
    }
   ],
   "source": [
    "n2_pc = np.round(n2/one_percent,1)\n",
    "print(n2_pc)"
   ]
  },
  {
   "cell_type": "code",
   "execution_count": 134,
   "metadata": {},
   "outputs": [
    {
     "name": "stdout",
     "output_type": "stream",
     "text": [
      "13.7\n"
     ]
    }
   ],
   "source": [
    "n3_pc = np.round(n3/one_percent,1)\n",
    "print(n3_pc)"
   ]
  },
  {
   "cell_type": "code",
   "execution_count": 135,
   "metadata": {},
   "outputs": [
    {
     "name": "stdout",
     "output_type": "stream",
     "text": [
      "8.3\n"
     ]
    }
   ],
   "source": [
    "n4_pc = np.round(n4/one_percent,1)\n",
    "print(n4_pc)"
   ]
  },
  {
   "cell_type": "code",
   "execution_count": 136,
   "metadata": {},
   "outputs": [
    {
     "name": "stdout",
     "output_type": "stream",
     "text": [
      "9.3\n"
     ]
    }
   ],
   "source": [
    "n5_pc = np.round(n5/one_percent,1)\n",
    "print(n5_pc)"
   ]
  },
  {
   "cell_type": "code",
   "execution_count": 137,
   "metadata": {},
   "outputs": [
    {
     "name": "stdout",
     "output_type": "stream",
     "text": [
      "8.3\n"
     ]
    }
   ],
   "source": [
    "n6_pc = np.round(n6/one_percent,1)\n",
    "print(n6_pc)"
   ]
  },
  {
   "cell_type": "code",
   "execution_count": 138,
   "metadata": {},
   "outputs": [
    {
     "name": "stdout",
     "output_type": "stream",
     "text": [
      "3.6\n"
     ]
    }
   ],
   "source": [
    "n7_pc = np.round(n7/one_percent,1)\n",
    "print(n7_pc)"
   ]
  },
  {
   "cell_type": "code",
   "execution_count": 139,
   "metadata": {},
   "outputs": [
    {
     "name": "stdout",
     "output_type": "stream",
     "text": [
      "4.9\n"
     ]
    }
   ],
   "source": [
    "n8_pc = np.round(n8/one_percent,1)\n",
    "print(n8_pc)"
   ]
  },
  {
   "cell_type": "code",
   "execution_count": 140,
   "metadata": {},
   "outputs": [
    {
     "name": "stdout",
     "output_type": "stream",
     "text": [
      "2.6\n"
     ]
    }
   ],
   "source": [
    "n9_pc = np.round(n9/one_percent,1)\n",
    "print(n9_pc)"
   ]
  },
  {
   "cell_type": "markdown",
   "metadata": {},
   "source": [
    "### Create a bar diagram to confronte the reality and the theory"
   ]
  },
  {
   "cell_type": "code",
   "execution_count": 209,
   "metadata": {},
   "outputs": [
    {
     "data": {
      "image/png": "[encoded data removed]",
      "text/plain": [
       "<Figure size 432x288 with 1 Axes>"
      ]
     },
     "metadata": {
      "needs_background": "light"
     },
     "output_type": "display_data"
    }
   ],
   "source": [
    "plt.title(\"Comparing Argentina in 2010 and Benford's law\")\n",
    "red_patch = mpatches.Patch(color=\"#f05454\", label=\"Argentina's population 2010\")\n",
    "blue_patch = mpatches.Patch(color=\"#1f6f8b\", label=\"Benford's law\")\n",
    "plt.legend(handles=[red_patch, blue_patch])\n",
    "plt.ylabel(\"Percentage\")\n",
    "# plt.xlabel('1','2','3','4','5','6','7','8','9')\n",
    "data = [[n1_pc, n2_pc, n3_pc, n4_pc, n5_pc, n6_pc, n7_pc, n8_pc, n9_pc], [30.1, 17.6, 12.5, 9.7, 7.9, 6.7, 5.8, 5.1, 4.6]]\n",
    "x = np.arange(9)\n",
    "plt.bar(x + 0.00, data[0], color=\"#f05454\", width = 0.5)\n",
    "plt.bar(x + 0.5, data[1], color=\"#1f6f8b\", width = 0.5)\n",
    "plt.show()"
   ]
  },
  {
   "cell_type": "code",
   "execution_count": 240,
   "metadata": {},
   "outputs": [
    {
     "name": "stdout",
     "output_type": "stream",
     "text": [
      "Accuracy: -5.77%\n"
     ]
    }
   ],
   "source": [
    "pc1 = round((((n1_pc/30.1)*100)-100),2)\n",
    "pc2 = round((((n2_pc/17.6)*100)-100),2)\n",
    "pc3 = round((((n3_pc/12.5)*100)-100),2)\n",
    "pc4 = round((((n4_pc/9.7)*100)-100),2)\n",
    "pc5 = round((((n5_pc/7.9)*100)-100),2)\n",
    "pc6 = round((((n6_pc/6.7)*100)-100),2)\n",
    "pc7 = round((((n7_pc/5.8)*100)-100),2)\n",
    "pc8 = round((((n8_pc/5.1)*100)-100),2)\n",
    "pc9 = round((((n9_pc/4.6)*100)-100),2)\n",
    "pctotal = pc1+pc2+pc3+pc4+pc5+pc6+pc7+pc8+pc9\n",
    "accuracy = np.round((pctotal/9),2) \n",
    "print(\"Accuracy: \" + str(accuracy) + \"%\")"
   ]
  },
  {
   "cell_type": "markdown",
   "metadata": {},
   "source": [
    "## Argentina's population in 2001"
   ]
  },
  {
   "cell_type": "code",
   "execution_count": 241,
   "metadata": {},
   "outputs": [],
   "source": [
    "population2001 = population.loc[:,[\"POP2001\"]]\n",
    "\n",
    "serie2001 = population2001.apply(pd.Series).stack().reset_index(drop=True)\n",
    "\n",
    "list_population2001 = serie2001.tolist()\n",
    "\n",
    "first_list2001 = []\n",
    "\n",
    "for num in list_population2001:\n",
    "    num = str(num)\n",
    "    first = num[0:1]\n",
    "    first_list2001.append(first)\n",
    "\n",
    "n101=0\n",
    "n201=0\n",
    "n301=0\n",
    "n401=0\n",
    "n501=0\n",
    "n601=0\n",
    "n701=0\n",
    "n801=0\n",
    "n901=0\n",
    "n001=0\n",
    "\n",
    "for num in first_list2001:\n",
    "    if(num==\"1\"):\n",
    "        n101 = n101+1\n",
    "    elif(num==\"2\"):\n",
    "        n201 = n201+1  \n",
    "    elif(num==\"3\"):\n",
    "        n301 = n301+1  \n",
    "    elif(num==\"4\"):\n",
    "        n401 = n401+1  \n",
    "    elif(num==\"5\"):\n",
    "        n501 = n501+1  \n",
    "    elif(num==\"6\"):\n",
    "        n601 = n601+1  \n",
    "    elif(num==\"7\"):\n",
    "        n701 = n701+1\n",
    "    elif(num==\"8\"):\n",
    "        n801 = n801+1\n",
    "    elif(num==\"9\"):\n",
    "        n901 = n901+1\n",
    "    elif(num==\"0\"):\n",
    "        n001 = n001+1\n",
    "    else:\n",
    "        pass\n",
    "    \n",
    "one_percent2001 = (n101+n201+n301+n401+n501+n601+n701+n801+n901+n001)/100\n",
    "\n",
    "n101_pc = np.round(n101/one_percent2001,1)\n",
    "n201_pc = np.round(n201/one_percent2001,1)\n",
    "n301_pc = np.round(n301/one_percent2001,1)\n",
    "n401_pc = np.round(n401/one_percent2001,1)\n",
    "n501_pc = np.round(n501/one_percent2001,1)\n",
    "n601_pc = np.round(n601/one_percent2001,1)\n",
    "n701_pc = np.round(n701/one_percent2001,1)\n",
    "n801_pc = np.round(n801/one_percent2001,1)\n",
    "n901_pc = np.round(n901/one_percent2001,1)"
   ]
  },
  {
   "cell_type": "code",
   "execution_count": 236,
   "metadata": {},
   "outputs": [
    {
     "data": {
      "image/png": "[encoded data removed]",
      "text/plain": [
       "<Figure size 432x288 with 1 Axes>"
      ]
     },
     "metadata": {
      "needs_background": "light"
     },
     "output_type": "display_data"
    }
   ],
   "source": [
    "plt.title(\"Comparing Argentina in 2001 and Benford's law\")\n",
    "red_patch = mpatches.Patch(color=\"#f05454\", label=\"Argentina's population in 2001\")\n",
    "blue_patch = mpatches.Patch(color=\"#1f6f8b\", label=\"Benford's law\")\n",
    "plt.legend(handles=[red_patch, blue_patch])\n",
    "plt.ylabel(\"Percentage\")\n",
    "# plt.xlabel('1','2','3','4','5','6','7','8','9')\n",
    "data = [[n101_pc, n201_pc, n301_pc, n401_pc, n501_pc, n601_pc, n701_pc, n801_pc, n901_pc], [30.1, 17.6, 12.5, 9.7, 7.9, 6.7, 5.8, 5.1, 4.6]]\n",
    "x = np.arange(9)\n",
    "plt.bar(x + 0.00, data[0], color=\"#f05454\", width = 0.5)\n",
    "plt.bar(x + 0.5, data[1], color=\"#1f6f8b\", width = 0.5)\n",
    "plt.show()"
   ]
  },
  {
   "cell_type": "code",
   "execution_count": 242,
   "metadata": {},
   "outputs": [
    {
     "name": "stdout",
     "output_type": "stream",
     "text": [
      "Accuracy: -0.12%\n"
     ]
    }
   ],
   "source": [
    "pc1 = round((((n101_pc/30.1)*100)-100),2)\n",
    "pc2 = round((((n201_pc/17.6)*100)-100),2)\n",
    "pc3 = round((((n301_pc/12.5)*100)-100),2)\n",
    "pc4 = round((((n401_pc/9.7)*100)-100),2)\n",
    "pc5 = round((((n501_pc/7.9)*100)-100),2)\n",
    "pc6 = round((((n601_pc/6.7)*100)-100),2)\n",
    "pc7 = round((((n701_pc/5.8)*100)-100),2)\n",
    "pc8 = round((((n801_pc/5.1)*100)-100),2)\n",
    "pc9 = round((((n901_pc/4.6)*100)-100),2)\n",
    "pctotal = pc1+pc2+pc3+pc4+pc5+pc6+pc7+pc8+pc9\n",
    "accuracy = np.round((pctotal/9),2) \n",
    "print(\"Accuracy: \" + str(accuracy) + \"%\")"
   ]
  },
  {
   "cell_type": "markdown",
   "metadata": {},
   "source": [
    "## Argentina's population in 1991"
   ]
  },
  {
   "cell_type": "code",
   "execution_count": 235,
   "metadata": {},
   "outputs": [],
   "source": [
    "population1991 = population.loc[:,[\"POP1991\"]]\n",
    "\n",
    "serie1991 = population1991.apply(pd.Series).stack().reset_index(drop=True)\n",
    "\n",
    "list_population1991 = serie1991.tolist()\n",
    "\n",
    "first_list1991 = []\n",
    "\n",
    "for num in list_population1991:\n",
    "    num = str(num)\n",
    "    first = num[0:1]\n",
    "    first_list1991.append(first)\n",
    "\n",
    "n191=0\n",
    "n291=0\n",
    "n391=0\n",
    "n491=0\n",
    "n591=0\n",
    "n691=0\n",
    "n791=0\n",
    "n891=0\n",
    "n991=0\n",
    "n091=0\n",
    "\n",
    "for num in first_list1991:\n",
    "    if(num==\"1\"):\n",
    "        n191 = n191+1\n",
    "    elif(num==\"2\"):\n",
    "        n291 = n291+1  \n",
    "    elif(num==\"3\"):\n",
    "        n391 = n391+1  \n",
    "    elif(num==\"4\"):\n",
    "        n491 = n491+1  \n",
    "    elif(num==\"5\"):\n",
    "        n591 = n591+1  \n",
    "    elif(num==\"6\"):\n",
    "        n691 = n691+1  \n",
    "    elif(num==\"7\"):\n",
    "        n791 = n791+1\n",
    "    elif(num==\"8\"):\n",
    "        n891 = n891+1\n",
    "    elif(num==\"9\"):\n",
    "        n991 = n991+1\n",
    "    elif(num==\"0\"):\n",
    "        n091 = n091+1\n",
    "    else:\n",
    "        pass\n",
    "    \n",
    "one_percent1991 = (n101+n201+n301+n401+n501+n601+n701+n801+n901+n001)/100\n",
    "\n",
    "n191_pc = np.round(n191/one_percent1991,1)\n",
    "n291_pc = np.round(n291/one_percent1991,1)\n",
    "n391_pc = np.round(n391/one_percent1991,1)\n",
    "n491_pc = np.round(n491/one_percent1991,1)\n",
    "n591_pc = np.round(n591/one_percent1991,1)\n",
    "n691_pc = np.round(n691/one_percent1991,1)\n",
    "n791_pc = np.round(n791/one_percent1991,1)\n",
    "n891_pc = np.round(n891/one_percent1991,1)\n",
    "n991_pc = np.round(n991/one_percent1991,1)"
   ]
  },
  {
   "cell_type": "code",
   "execution_count": 234,
   "metadata": {},
   "outputs": [
    {
     "data": {
      "image/png": "[encoded data removed]",
      "text/plain": [
       "<Figure size 432x288 with 1 Axes>"
      ]
     },
     "metadata": {
      "needs_background": "light"
     },
     "output_type": "display_data"
    }
   ],
   "source": [
    "plt.title(\"Comparing Argentina in 1991 and Benford's law\")\n",
    "red_patch = mpatches.Patch(color=\"#f05454\", label=\"Argentina's population in 2001\")\n",
    "blue_patch = mpatches.Patch(color=\"#1f6f8b\", label=\"Benford's law\")\n",
    "plt.legend(handles=[red_patch, blue_patch])\n",
    "plt.ylabel(\"Percentage\")\n",
    "# plt.xlabel('1','2','3','4','5','6','7','8','9')\n",
    "data = [[n191_pc, n291_pc, n391_pc, n491_pc, n591_pc, n691_pc, n791_pc, n891_pc, n991_pc], [30.1, 17.6, 12.5, 9.7, 7.9, 6.7, 5.8, 5.1, 4.6]]\n",
    "x = np.arange(9)\n",
    "plt.bar(x + 0.00, data[0], color=\"#f05454\", width = 0.5)\n",
    "plt.bar(x + 0.5, data[1], color=\"#1f6f8b\", width = 0.5)\n",
    "plt.show()"
   ]
  },
  {
   "cell_type": "code",
   "execution_count": 243,
   "metadata": {},
   "outputs": [
    {
     "name": "stdout",
     "output_type": "stream",
     "text": [
      "Accuracy: -7.95%\n"
     ]
    }
   ],
   "source": [
    "pc1 = round((((n191_pc/30.1)*100)-100),2)\n",
    "pc2 = round((((n291_pc/17.6)*100)-100),2)\n",
    "pc3 = round((((n391_pc/12.5)*100)-100),2)\n",
    "pc4 = round((((n491_pc/9.7)*100)-100),2)\n",
    "pc5 = round((((n591_pc/7.9)*100)-100),2)\n",
    "pc6 = round((((n691_pc/6.7)*100)-100),2)\n",
    "pc7 = round((((n791_pc/5.8)*100)-100),2)\n",
    "pc8 = round((((n891_pc/5.1)*100)-100),2)\n",
    "pc9 = round((((n991_pc/4.6)*100)-100),2)\n",
    "pctotal = pc1+pc2+pc3+pc4+pc5+pc6+pc7+pc8+pc9\n",
    "accuracy = np.round((pctotal/9),2) \n",
    "print(\"Accuracy: \" + str(accuracy) + \"%\")"
   ]
  },
  {
   "cell_type": "markdown",
   "metadata": {},
   "source": [
    "## 3-yars average\n",
    "\n",
    "Calculate the average population of the 3 years (1991, 2001, and 2010) and notice how the error is smaller and nearest the Bendford model."
   ]
  },
  {
   "cell_type": "code",
   "execution_count": 223,
   "metadata": {},
   "outputs": [],
   "source": [
    "n1ave= np.round(((n1_pc+n101_pc+n191_pc)/3),2)\n",
    "n2ave= np.round(((n2_pc+n201_pc+n291_pc)/3),2)\n",
    "n3ave= np.round(((n3_pc+n301_pc+n391_pc)/3),2)\n",
    "n4ave= np.round(((n4_pc+n401_pc+n491_pc)/3),2)\n",
    "n5ave= np.round(((n5_pc+n501_pc+n591_pc)/3),2)\n",
    "n6ave= np.round(((n6_pc+n601_pc+n691_pc)/3),2)\n",
    "n7ave= np.round(((n7_pc+n701_pc+n791_pc)/3),2)\n",
    "n8ave= np.round(((n8_pc+n801_pc+n891_pc)/3),2)\n",
    "n9ave= np.round(((n9_pc+n901_pc+n991_pc)/3),2)"
   ]
  },
  {
   "cell_type": "code",
   "execution_count": 233,
   "metadata": {},
   "outputs": [
    {
     "data": {
      "image/png": "[encoded data removed]",
      "text/plain": [
       "<Figure size 432x288 with 1 Axes>"
      ]
     },
     "metadata": {
      "needs_background": "light"
     },
     "output_type": "display_data"
    }
   ],
   "source": [
    "plt.title(\"Comparing Argentina: 3 years and Benford's law\")\n",
    "red_patch = mpatches.Patch(color=\"#f05454\", label=\"Argentina's population 3 years\")\n",
    "blue_patch = mpatches.Patch(color=\"#1f6f8b\", label=\"Benford's law\")\n",
    "plt.legend(handles=[red_patch, blue_patch])\n",
    "plt.ylabel(\"Percentage\")\n",
    "data = [[n1ave, n2ave, n3ave, n4ave, n5ave, n6ave, n7ave, n8ave, n9ave], [30.1, 17.6, 12.5, 9.7, 7.9, 6.7, 5.8, 5.1, 4.6]]\n",
    "x = np.arange(9)\n",
    "plt.bar(x + 0.00, data[0], color=\"#f05454\", width = 0.5)\n",
    "plt.bar(x + 0.5, data[1], color=\"#1f6f8b\", width = 0.5)\n",
    "plt.show()"
   ]
  },
  {
   "cell_type": "code",
   "execution_count": 190,
   "metadata": {},
   "outputs": [
    {
     "data": {
      "text/plain": [
       "100.0"
      ]
     },
     "execution_count": 190,
     "metadata": {},
     "output_type": "execute_result"
    }
   ],
   "source": [
    "benford_list = [30.1, 17.6, 12.5, 9.7, 7.9, 6.7, 5.8, 5.1, 4.6]\n",
    "benford_tot =sum(benford_list)\n",
    "benford_tot\n",
    "average_list = [n1ave, n2ave, n3ave, n4ave, n5ave, n6ave, n7ave, n8ave, n9ave]"
   ]
  },
  {
   "cell_type": "code",
   "execution_count": 232,
   "metadata": {},
   "outputs": [
    {
     "name": "stdout",
     "output_type": "stream",
     "text": [
      "Accuracy: -4.6%\n"
     ]
    }
   ],
   "source": [
    "pc1 = round((((n1ave/30.1)*100)-100),2)\n",
    "pc2 = round((((n2ave/17.6)*100)-100),2)\n",
    "pc3 = round((((n3ave/12.5)*100)-100),2)\n",
    "pc4 = round((((n4ave/9.7)*100)-100),2)\n",
    "pc5 = round((((n5ave/7.9)*100)-100),2)\n",
    "pc6 = round((((n6ave/6.7)*100)-100),2)\n",
    "pc7 = round((((n7ave/5.8)*100)-100),2)\n",
    "pc8 = round((((n8ave/5.1)*100)-100),2)\n",
    "pc9 = round((((n9ave/4.6)*100)-100),2)\n",
    "pctotal = pc1+pc2+pc3+pc4+pc5+pc6+pc7+pc8+pc9\n",
    "accuracy = np.round((pctotal/9),2) \n",
    "print(\"Accuracy: \" + str(accuracy) + \"%\")"
   ]
  },
  {
   "cell_type": "markdown",
   "metadata": {},
   "source": [
    "## Conclusions\n",
    "\n",
    "This study project shows how Benford's law is accurate, the best score in the 2001 with an an error -0.12%.\n",
    "I practiced the use of the libraries numpy, pandas and matplotlib and how to manipulate data type objects and series and how to create a bar diagram with details."
   ]
  }
 ],
 "metadata": {
  "kernelspec": {
   "display_name": "Python 3",
   "language": "python",
   "name": "python3"
  },
  "language_info": {
   "codemirror_mode": {
    "name": "ipython",
    "version": 3
   },
   "file_extension": ".py",
   "mimetype": "text/x-python",
   "name": "python",
   "nbconvert_exporter": "python",
   "pygments_lexer": "ipython3",
   "version": "3.7.6"
  }
 },
 "nbformat": 4,
 "nbformat_minor": 4
}
